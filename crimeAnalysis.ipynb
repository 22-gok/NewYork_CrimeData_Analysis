{
 "cells": [
  {
   "cell_type": "code",
   "execution_count": 1,
   "metadata": {},
   "outputs": [],
   "source": [
    "import numpy as np\n",
    "import pandas as pd"
   ]
  },
  {
   "cell_type": "code",
   "execution_count": 2,
   "metadata": {},
   "outputs": [],
   "source": [
    "file_path = r\"C:\\Users\\gokul\\Downloads\\IncidentReports.xlsx\"\n",
    "df = pd.read_excel(file_path)\n",
    "\n"
   ]
  },
  {
   "cell_type": "code",
   "execution_count": 3,
   "metadata": {},
   "outputs": [
    {
     "name": "stdout",
     "output_type": "stream",
     "text": [
      "Number of rows: 150162\n",
      "Number of columns: 12\n"
     ]
    }
   ],
   "source": [
    "num_rows, num_columns = df.shape\n",
    "print(f\"Number of rows: {num_rows}\")\n",
    "print(f\"Number of columns: {num_columns}\")"
   ]
  },
  {
   "cell_type": "code",
   "execution_count": 4,
   "metadata": {},
   "outputs": [
    {
     "name": "stdout",
     "output_type": "stream",
     "text": [
      "   IncidentNumber       Date_Occurred          Date_Found Offense_Code  \\\n",
      "0      2020025745 2020-01-01 05:00:00 2020-06-01 04:00:00          11A   \n",
      "1      2020026298 2020-01-01 05:00:00 2020-08-10 04:00:00          11A   \n",
      "2      2020026298 2020-01-01 05:00:00 2020-08-10 04:00:00          11A   \n",
      "3      2020000060 2020-01-01 05:00:00 2020-01-01 12:30:00         90ZC   \n",
      "4      2021005659 2020-01-01 05:00:00 2020-10-01 04:00:00          370   \n",
      "5      2020000078 2020-01-01 05:00:00 2020-01-01 15:00:00         290B   \n",
      "6      2021052231 2020-01-01 05:00:00 2020-01-01 05:00:00          99K   \n",
      "7      2020008182 2020-01-01 05:00:00 2020-01-05 05:00:00         290B   \n",
      "8      2020008182 2020-01-01 05:00:00 2020-01-05 05:00:00          23D   \n",
      "9      2020002716 2020-01-01 05:00:00 2020-01-10 05:00:00          99K   \n",
      "\n",
      "                         Offense_Description   Block            Street  \\\n",
      "0                              FORCIBLE RAPE  1100.0    OCEAN TRACE LA   \n",
      "1                              FORCIBLE RAPE  2500.0       LONGLEAF CT   \n",
      "2                              FORCIBLE RAPE  2500.0       LONGLEAF CT   \n",
      "3                                  HIT & RUN  5100.0      LYNNHAVEN PW   \n",
      "4              PORNOGRAPHY/ OBSCENE MATERIAL  2500.0  PRINCESS ANNE RD   \n",
      "5  DESTRUCTION OF PROPERTY, PRIVATE PROPERTY   100.0     COMANCHE CL S   \n",
      "6                           APS/CPS REFERRAL  2800.0     TREE TRUNK CT   \n",
      "7  DESTRUCTION OF PROPERTY, PRIVATE PROPERTY  1700.0        HARPERS RD   \n",
      "8                     LARCENY, FROM BUILDING  1700.0        HARPERS RD   \n",
      "9                           APS/CPS REFERRAL  3700.0        HOLLAND RD   \n",
      "\n",
      "  Precinct                      Subdivision Zone_ID            Case_Status  \\\n",
      "0     2               BIRDNECK NORTH CONDOS     226           UNDER REVIEW   \n",
      "1     2                      DEERWOOD TRACE     222      CLEARED BY ARREST   \n",
      "2     2                      DEERWOOD TRACE     222      CLEARED BY ARREST   \n",
      "3     4                     KEMPSVILLE AREA     421  EXCEPTIONALLY CLEARED   \n",
      "4     1                    MUNICIPAL CENTER     121              UNFOUNDED   \n",
      "5     4     MAYFAIR TOWNHOUSES IN ARROWHEAD     423     PENDING - INACTIVE   \n",
      "6     1                       HOLLAND PINES     124           UNDER REVIEW   \n",
      "7     1        HARPER SQUARE AREA IN OCEANA     123  EXCEPTIONALLY CLEARED   \n",
      "8     1        HARPER SQUARE AREA IN OCEANA     123  EXCEPTIONALLY CLEARED   \n",
      "9     4                   CHIMNEY HILL AREA     427              UNFOUNDED   \n",
      "\n",
      "   OBJECTID  \n",
      "0     72811  \n",
      "1     72950  \n",
      "2     72951  \n",
      "3     91315  \n",
      "4     92317  \n",
      "5     98298  \n",
      "6    108208  \n",
      "7    115247  \n",
      "8    115248  \n",
      "9    117965  \n"
     ]
    }
   ],
   "source": [
    "print(df.head(10))\n"
   ]
  },
  {
   "cell_type": "code",
   "execution_count": 5,
   "metadata": {},
   "outputs": [
    {
     "name": "stdout",
     "output_type": "stream",
     "text": [
      "   IncidentNumber       Date_Occurred          Date_Found Offense_Code  \\\n",
      "0      2020025745 2020-01-01 05:00:00 2020-06-01 04:00:00          11A   \n",
      "1      2020026298 2020-01-01 05:00:00 2020-08-10 04:00:00          11A   \n",
      "2      2020026298 2020-01-01 05:00:00 2020-08-10 04:00:00          11A   \n",
      "3      2020000060 2020-01-01 05:00:00 2020-01-01 12:30:00         90ZC   \n",
      "4      2021005659 2020-01-01 05:00:00 2020-10-01 04:00:00          370   \n",
      "5      2020000078 2020-01-01 05:00:00 2020-01-01 15:00:00         290B   \n",
      "6      2021052231 2020-01-01 05:00:00 2020-01-01 05:00:00          99K   \n",
      "7      2020008182 2020-01-01 05:00:00 2020-01-05 05:00:00         290B   \n",
      "8      2020008182 2020-01-01 05:00:00 2020-01-05 05:00:00          23D   \n",
      "9      2020002716 2020-01-01 05:00:00 2020-01-10 05:00:00          99K   \n",
      "\n",
      "                         Offense_Description   Block            Street  \\\n",
      "0                              FORCIBLE RAPE  1100.0    OCEAN TRACE LA   \n",
      "1                              FORCIBLE RAPE  2500.0       LONGLEAF CT   \n",
      "2                              FORCIBLE RAPE  2500.0       LONGLEAF CT   \n",
      "3                                  HIT & RUN  5100.0      LYNNHAVEN PW   \n",
      "4              PORNOGRAPHY/ OBSCENE MATERIAL  2500.0  PRINCESS ANNE RD   \n",
      "5  DESTRUCTION OF PROPERTY, PRIVATE PROPERTY   100.0     COMANCHE CL S   \n",
      "6                           APS/CPS REFERRAL  2800.0     TREE TRUNK CT   \n",
      "7  DESTRUCTION OF PROPERTY, PRIVATE PROPERTY  1700.0        HARPERS RD   \n",
      "8                     LARCENY, FROM BUILDING  1700.0        HARPERS RD   \n",
      "9                           APS/CPS REFERRAL  3700.0        HOLLAND RD   \n",
      "\n",
      "  Precinct                      Subdivision Zone_ID            Case_Status  \\\n",
      "0     2               BIRDNECK NORTH CONDOS     226           UNDER REVIEW   \n",
      "1     2                      DEERWOOD TRACE     222      CLEARED BY ARREST   \n",
      "2     2                      DEERWOOD TRACE     222      CLEARED BY ARREST   \n",
      "3     4                     KEMPSVILLE AREA     421  EXCEPTIONALLY CLEARED   \n",
      "4     1                    MUNICIPAL CENTER     121              UNFOUNDED   \n",
      "5     4     MAYFAIR TOWNHOUSES IN ARROWHEAD     423     PENDING - INACTIVE   \n",
      "6     1                       HOLLAND PINES     124           UNDER REVIEW   \n",
      "7     1        HARPER SQUARE AREA IN OCEANA     123  EXCEPTIONALLY CLEARED   \n",
      "8     1        HARPER SQUARE AREA IN OCEANA     123  EXCEPTIONALLY CLEARED   \n",
      "9     4                   CHIMNEY HILL AREA     427              UNFOUNDED   \n",
      "\n",
      "   OBJECTID Occurred_Date Occurred_Time  Found_Date Found_Time  \\\n",
      "0     72811    2020-01-01      05:00:00  2020-06-01   04:00:00   \n",
      "1     72950    2020-01-01      05:00:00  2020-08-10   04:00:00   \n",
      "2     72951    2020-01-01      05:00:00  2020-08-10   04:00:00   \n",
      "3     91315    2020-01-01      05:00:00  2020-01-01   12:30:00   \n",
      "4     92317    2020-01-01      05:00:00  2020-10-01   04:00:00   \n",
      "5     98298    2020-01-01      05:00:00  2020-01-01   15:00:00   \n",
      "6    108208    2020-01-01      05:00:00  2020-01-01   05:00:00   \n",
      "7    115247    2020-01-01      05:00:00  2020-01-05   05:00:00   \n",
      "8    115248    2020-01-01      05:00:00  2020-01-05   05:00:00   \n",
      "9    117965    2020-01-01      05:00:00  2020-01-10   05:00:00   \n",
      "\n",
      "  Occurred_DayNight Found_DayNight  \n",
      "0             Night          Night  \n",
      "1             Night          Night  \n",
      "2             Night          Night  \n",
      "3             Night            Day  \n",
      "4             Night          Night  \n",
      "5             Night            Day  \n",
      "6             Night          Night  \n",
      "7             Night          Night  \n",
      "8             Night          Night  \n",
      "9             Night          Night  \n"
     ]
    }
   ],
   "source": [
    "df['Date_Occurred'] = pd.to_datetime(df['Date_Occurred'])\n",
    "df['Date_Found'] = pd.to_datetime(df['Date_Found'])\n",
    "\n",
    "df['Occurred_Date'] = df['Date_Occurred'].dt.date\n",
    "df['Occurred_Time'] = df['Date_Occurred'].dt.time\n",
    "\n",
    "df['Found_Date'] = df['Date_Found'].dt.date\n",
    "df['Found_Time'] = df['Date_Found'].dt.time\n",
    "\n",
    "df['Occurred_DayNight'] = df['Date_Occurred'].dt.hour.apply(lambda x: 'Day' if 6 <= x < 18 else 'Night')\n",
    "df['Found_DayNight'] = df['Date_Found'].dt.hour.apply(lambda x: 'Day' if 6 <= x < 18 else 'Night')\n",
    "print(df.head(10))\n"
   ]
  },
  {
   "cell_type": "code",
   "execution_count": 6,
   "metadata": {},
   "outputs": [
    {
     "name": "stdout",
     "output_type": "stream",
     "text": [
      "Number of rows: 150162\n",
      "Number of columns: 16\n"
     ]
    }
   ],
   "source": [
    "\n",
    "df['Occurred_Date'] = pd.to_datetime(df['Occurred_Date'])\n",
    "df['Found_Date'] = pd.to_datetime(df['Found_Date'])\n",
    "\n",
    "df.drop(columns=['Date_Occurred', 'Date_Found'], inplace=True)\n",
    "num_rows, num_columns = df.shape\n",
    "print(f\"Number of rows: {num_rows}\")\n",
    "print(f\"Number of columns: {num_columns}\")\n",
    "\n",
    "\n"
   ]
  },
  {
   "cell_type": "code",
   "execution_count": 7,
   "metadata": {},
   "outputs": [
    {
     "name": "stdout",
     "output_type": "stream",
     "text": [
      "                          Data Type  Missing Values\n",
      "IncidentNumber                int64               0\n",
      "Offense_Code                 object               0\n",
      "Offense_Description          object               0\n",
      "Block                       float64            7460\n",
      "Street                       object            1963\n",
      "Precinct                     object            5901\n",
      "Subdivision                  object            8584\n",
      "Zone_ID                      object            5905\n",
      "Case_Status                  object               0\n",
      "OBJECTID                      int64               0\n",
      "Occurred_Date        datetime64[ns]               0\n",
      "Occurred_Time                object               0\n",
      "Found_Date           datetime64[ns]               0\n",
      "Found_Time                   object               0\n",
      "Occurred_DayNight            object               0\n",
      "Found_DayNight               object               0\n"
     ]
    }
   ],
   "source": [
    "\n",
    "column_info = df.dtypes\n",
    "missing_values = df.isnull().sum()\n",
    "summary_df = pd.DataFrame({\"Data Type\": column_info, \"Missing Values\": missing_values})\n",
    "print(summary_df)"
   ]
  },
  {
   "cell_type": "code",
   "execution_count": 8,
   "metadata": {},
   "outputs": [
    {
     "name": "stdout",
     "output_type": "stream",
     "text": [
      "             Missing Percentage\n",
      "Block                  4.967968\n",
      "Street                 1.307255\n",
      "Precinct               3.929756\n",
      "Subdivision            5.716493\n",
      "Zone_ID                3.932420\n"
     ]
    }
   ],
   "source": [
    "\n",
    "columns_to_check = [\"Block\", \"Street\", \"Precinct\", \"Subdivision\", \"Zone_ID\"]\n",
    "total_rows = len(df)\n",
    "missing_percent = (df[columns_to_check].isnull().sum() / total_rows) * 100\n",
    "missing_percent_df = pd.DataFrame({\"Missing Percentage\": missing_percent})\n",
    "print(missing_percent_df)\n"
   ]
  },
  {
   "cell_type": "code",
   "execution_count": 9,
   "metadata": {},
   "outputs": [],
   "source": [
    "df[\"Precinct\"] = df[\"Precinct\"].fillna(0)\n",
    "df[\"Zone_ID\"] = df[\"Zone_ID\"].fillna(0)\n",
    "df[\"Block\"] = df[\"Block\"].fillna(0)\n",
    "df[\"Subdivision\"] = df[\"Subdivision\"].fillna('MISSING')\n",
    "df[\"Street\"] = df[\"Street\"].fillna('Missing')\n"
   ]
  },
  {
   "cell_type": "code",
   "execution_count": 10,
   "metadata": {},
   "outputs": [
    {
     "name": "stdout",
     "output_type": "stream",
     "text": [
      "             Missing Percentage\n",
      "Block                       0.0\n",
      "Street                      0.0\n",
      "Precinct                    0.0\n",
      "Subdivision                 0.0\n",
      "Zone_ID                     0.0\n"
     ]
    }
   ],
   "source": [
    "columns_to_check = [\"Block\", \"Street\", \"Precinct\", \"Subdivision\", \"Zone_ID\"]\n",
    "total_rows = len(df)\n",
    "missing_percent = (df[columns_to_check].isnull().sum() / total_rows) * 100\n",
    "missing_percent_df = pd.DataFrame({\"Missing Percentage\": missing_percent})\n",
    "print(missing_percent_df)"
   ]
  },
  {
   "cell_type": "code",
   "execution_count": 11,
   "metadata": {},
   "outputs": [
    {
     "name": "stderr",
     "output_type": "stream",
     "text": [
      "<>:1: SyntaxWarning: invalid escape sequence '\\d'\n",
      "<>:2: SyntaxWarning: invalid escape sequence '\\d'\n",
      "<>:3: SyntaxWarning: invalid escape sequence '\\d'\n",
      "<>:1: SyntaxWarning: invalid escape sequence '\\d'\n",
      "<>:2: SyntaxWarning: invalid escape sequence '\\d'\n",
      "<>:3: SyntaxWarning: invalid escape sequence '\\d'\n",
      "C:\\Users\\gokul\\AppData\\Local\\Temp\\ipykernel_21280\\4209129051.py:1: SyntaxWarning: invalid escape sequence '\\d'\n",
      "  df[\"Precinct\"] = df[\"Precinct\"].astype(str).str.extract(\"(\\d+)\")\n",
      "C:\\Users\\gokul\\AppData\\Local\\Temp\\ipykernel_21280\\4209129051.py:2: SyntaxWarning: invalid escape sequence '\\d'\n",
      "  df[\"Zone_ID\"] = df[\"Zone_ID\"].astype(str).str.extract(\"(\\d+)\")\n",
      "C:\\Users\\gokul\\AppData\\Local\\Temp\\ipykernel_21280\\4209129051.py:3: SyntaxWarning: invalid escape sequence '\\d'\n",
      "  df[\"Block\"] = df[\"Block\"].astype(str).str.extract(\"(\\d+)\")\n"
     ]
    }
   ],
   "source": [
    "df[\"Precinct\"] = df[\"Precinct\"].astype(str).str.extract(\"(\\d+)\")  \n",
    "df[\"Zone_ID\"] = df[\"Zone_ID\"].astype(str).str.extract(\"(\\d+)\")  \n",
    "df[\"Block\"] = df[\"Block\"].astype(str).str.extract(\"(\\d+)\")  \n"
   ]
  },
  {
   "cell_type": "code",
   "execution_count": 12,
   "metadata": {},
   "outputs": [],
   "source": [
    "df[\"Precinct\"] = pd.to_numeric(df[\"Precinct\"], errors=\"coerce\").fillna(0).astype(int)\n",
    "df[\"Zone_ID\"] = pd.to_numeric(df[\"Zone_ID\"], errors=\"coerce\").fillna(0).astype(int)\n",
    "df[\"Block\"] = pd.to_numeric(df[\"Block\"], errors=\"coerce\").fillna(0).astype(int)\n"
   ]
  },
  {
   "cell_type": "code",
   "execution_count": 13,
   "metadata": {},
   "outputs": [
    {
     "name": "stdout",
     "output_type": "stream",
     "text": [
      "             Missing Percentage\n",
      "Block                       0.0\n",
      "Street                      0.0\n",
      "Precinct                    0.0\n",
      "Subdivision                 0.0\n",
      "Zone_ID                     0.0\n"
     ]
    }
   ],
   "source": [
    "columns_to_check = [\"Block\", \"Street\", \"Precinct\", \"Subdivision\", \"Zone_ID\"]\n",
    "total_rows = len(df)\n",
    "missing_percent = (df[columns_to_check].isnull().sum() / total_rows) * 100\n",
    "missing_percent_df = pd.DataFrame({\"Missing Percentage\": missing_percent})\n",
    "print(missing_percent_df)\n"
   ]
  },
  {
   "cell_type": "code",
   "execution_count": 14,
   "metadata": {},
   "outputs": [],
   "source": [
    "categorical_columns = ['Offense_Code', 'Offense_Description', 'Street', 'Subdivision', 'Case_Status' , 'Occurred_DayNight','Found_DayNight']\n",
    "for column in categorical_columns:\n",
    "    df[column] = df[column].str.upper().str.strip().str.replace(r'\\s+', ' ', regex=True)"
   ]
  },
  {
   "cell_type": "code",
   "execution_count": 15,
   "metadata": {},
   "outputs": [],
   "source": [
    "part1_offenses = [\n",
    "    \"CRIMINAL HOMICIDE\", \"RAPE\", \"ROBBERY\", \"BURGLARY\",\n",
    "    \"LARCENY\", \"ARSON\", \"ASSAULT, AGGRAVATED\", \"MOTOR VEHICLE THEFT\",\n",
    "    \"HUMAN TRAFFICKING, COMMERCIAL SEX ACTS\", \"HUMAN TRAFFICKING, INVOLUNTARY SERVITUDE\"\n",
    "]\n",
    "\n",
    "df['Reporting_Time'] = df['Found_Date'] - df['Occurred_Date']\n",
    "\n",
    "df['Reporting_Time'] = df['Reporting_Time'].dt.days.astype(int)\n",
    "\n",
    "df['Offense_Part'] = df['Offense_Description'].apply(lambda x: 'Part 1' if x in part1_offenses else 'Part 2')\n"
   ]
  },
  {
   "cell_type": "code",
   "execution_count": 16,
   "metadata": {},
   "outputs": [
    {
     "name": "stdout",
     "output_type": "stream",
     "text": [
      "Overall Crimes: 150162\n",
      "Year\n",
      "2020    26812\n",
      "2021    27404\n",
      "2022    28082\n",
      "2023    33731\n",
      "2024    30755\n",
      "2025     3378\n",
      "dtype: int64\n"
     ]
    }
   ],
   "source": [
    "overall_crimes = df.shape[0]\n",
    "print(f\"Overall Crimes: {overall_crimes}\")\n",
    "df['Year'] = df['Occurred_Date'].dt.year\n",
    "crime_by_year = df.groupby('Year').size()\n",
    "\n",
    "print(crime_by_year)"
   ]
  },
  {
   "cell_type": "code",
   "execution_count": 17,
   "metadata": {},
   "outputs": [
    {
     "name": "stdout",
     "output_type": "stream",
     "text": [
      "Overall Part 1 Crimes: 3.96%\n",
      "Overall Part 2 Crimes: 96.04%\n"
     ]
    }
   ],
   "source": [
    "total_crimes = df.shape[0]\n",
    "part1_crimes = df[df['Offense_Part'] == 'Part 1'].shape[0]\n",
    "part2_crimes = df[df['Offense_Part'] == 'Part 2'].shape[0]\n",
    "part1_percentage = (part1_crimes / total_crimes) * 100\n",
    "part2_percentage = (part2_crimes / total_crimes) * 100\n",
    "\n",
    "print(f\"Overall Part 1 Crimes: {part1_percentage:.2f}%\")\n",
    "print(f\"Overall Part 2 Crimes: {part2_percentage:.2f}%\")\n"
   ]
  },
  {
   "cell_type": "code",
   "execution_count": 18,
   "metadata": {},
   "outputs": [
    {
     "name": "stdout",
     "output_type": "stream",
     "text": [
      "\n",
      "Year-wise Part 1 and Part 2 Crime Percentages:\n",
      "Year 2020: Part 1 Crimes: 4.36%, Part 2 Crimes: 95.64%\n",
      "Year 2021: Part 1 Crimes: 4.72%, Part 2 Crimes: 95.28%\n",
      "Year 2022: Part 1 Crimes: 4.88%, Part 2 Crimes: 95.12%\n",
      "Year 2023: Part 1 Crimes: 3.38%, Part 2 Crimes: 96.62%\n",
      "Year 2024: Part 1 Crimes: 2.87%, Part 2 Crimes: 97.13%\n",
      "Year 2025: Part 1 Crimes: 2.52%, Part 2 Crimes: 97.48%\n"
     ]
    }
   ],
   "source": [
    "crime_by_year = df.groupby('Year').size()\n",
    "part1_by_year = df[df['Offense_Part'] == 'Part 1'].groupby('Year').size()\n",
    "\n",
    "part1_percentage_by_year = (part1_by_year / crime_by_year) * 100\n",
    "part2_percentage_by_year = 100 - part1_percentage_by_year\n",
    "\n",
    "print(\"\\nYear-wise Part 1 and Part 2 Crime Percentages:\")\n",
    "for year in part1_percentage_by_year.index:\n",
    "    print(f\"Year {year}: Part 1 Crimes: {part1_percentage_by_year[year]:.2f}%, Part 2 Crimes: {part2_percentage_by_year[year]:.2f}%\")\n"
   ]
  },
  {
   "cell_type": "code",
   "execution_count": null,
   "metadata": {},
   "outputs": [
    {
     "name": "stdout",
     "output_type": "stream",
     "text": [
      "Overall Day Crimes: 52968\n",
      "Overall Night Crimes: 97194\n"
     ]
    }
   ],
   "source": [
    "day_crimes = df[df['Occurred_DayNight'] == 'DAY'].shape[0]\n",
    "night_crimes = df[df['Occurred_DayNight'] == 'NIGHT'].shape[0]\n",
    "\n",
    "print(f\"Overall Day Crimes: {day_crimes}\")\n",
    "print(f\"Overall Night Crimes: {night_crimes}\")\n"
   ]
  },
  {
   "cell_type": "code",
   "execution_count": 20,
   "metadata": {},
   "outputs": [
    {
     "name": "stdout",
     "output_type": "stream",
     "text": [
      "\n",
      "Year-wise Day and Night Crime Counts:\n",
      "Year 2020: Day Crimes: 9806, Night Crimes: 17006\n",
      "Year 2021: Day Crimes: 10218, Night Crimes: 17186\n",
      "Year 2022: Day Crimes: 10089, Night Crimes: 17993\n",
      "Year 2023: Day Crimes: 11372, Night Crimes: 22359\n",
      "Year 2024: Day Crimes: 10376, Night Crimes: 20379\n",
      "Year 2025: Day Crimes: 1107, Night Crimes: 2271\n"
     ]
    }
   ],
   "source": [
    "day_crimes_by_year = df[df['Occurred_DayNight'] == 'DAY'].groupby('Year').size()\n",
    "\n",
    "night_crimes_by_year = df[df['Occurred_DayNight'] == 'NIGHT'].groupby('Year').size()\n",
    "\n",
    "print(\"\\nYear-wise Day and Night Crime Counts:\")\n",
    "for year in day_crimes_by_year.index:\n",
    "    print(f\"Year {year}: Day Crimes: {day_crimes_by_year[year]}, Night Crimes: {night_crimes_by_year[year]}\")\n"
   ]
  },
  {
   "cell_type": "code",
   "execution_count": null,
   "metadata": {},
   "outputs": [
    {
     "name": "stdout",
     "output_type": "stream",
     "text": [
      "Top 10 Crimes by Zone:\n",
      "Zone_ID\n",
      "227    3966\n",
      "0      2613\n",
      "324    1884\n",
      "326    1816\n",
      "222    1628\n",
      "325    1586\n",
      "423    1571\n",
      "420    1543\n",
      "225    1380\n",
      "426    1330\n",
      "dtype: int64\n"
     ]
    }
   ],
   "source": [
    "crimes_by_zone = df.groupby('Zone_ID').size()\n",
    "\n",
    "crimes_by_zone_sorted = crimes_by_zone.sort_values(ascending=False)\n",
    "\n",
    "top_10_crimes_by_zone = crimes_by_zone_sorted.head(10)\n",
    "\n",
    "print(\"Top 10 Crimes by Zone:\")\n",
    "print(top_10_crimes_by_zone)\n"
   ]
  },
  {
   "cell_type": "code",
   "execution_count": null,
   "metadata": {},
   "outputs": [
    {
     "name": "stdout",
     "output_type": "stream",
     "text": [
      "Overall Seasonal Crime Counts:\n",
      "Season\n",
      "Fall      36103\n",
      "Spring    36473\n",
      "Summer    39328\n",
      "Winter    38258\n",
      "dtype: int64\n",
      "\n",
      "Year-wise Seasonal Crime Counts:\n",
      "Season  Fall  Spring  Summer  Winter\n",
      "Year                                \n",
      "2020    6849    5988    6994    6981\n",
      "2021    7100    6830    7186    6288\n",
      "2022    6476    7370    7599    6637\n",
      "2023    8104    8519    9274    7834\n",
      "2024    7574    7766    8275    7140\n",
      "2025       0       0       0    3378\n"
     ]
    }
   ],
   "source": [
    "def get_season(month):\n",
    "    if month in [12, 1, 2]:\n",
    "        return 'Winter'\n",
    "    elif month in [3, 4, 5]:\n",
    "        return 'Spring'\n",
    "    elif month in [6, 7, 8]:\n",
    "        return 'Summer'\n",
    "    else:\n",
    "        return 'Fall'\n",
    "\n",
    "df['Season'] = df['Occurred_Date'].dt.month.apply(get_season)\n",
    "\n",
    "seasonal_crimes_overall = df.groupby('Season').size()\n",
    "\n",
    "df['Year'] = df['Occurred_Date'].dt.year\n",
    "seasonal_crimes_by_year = df.groupby(['Year', 'Season']).size().unstack(fill_value=0)\n",
    "\n",
    "print(\"Overall Seasonal Crime Counts:\")\n",
    "print(seasonal_crimes_overall)\n",
    "\n",
    "# Print the year-wise seasonal crime counts\n",
    "print(\"\\nYear-wise Seasonal Crime Counts:\")\n",
    "print(seasonal_crimes_by_year)\n",
    "\n"
   ]
  },
  {
   "cell_type": "code",
   "execution_count": null,
   "metadata": {},
   "outputs": [
    {
     "name": "stdout",
     "output_type": "stream",
     "text": [
      "Top 10 Most Common Offenses with Part Information:\n",
      "                         Offense_Description Offense_Part  Count\n",
      "0                            ASSAULT, SIMPLE       Part 2  12639\n",
      "2  DESTRUCTION OF PROPERTY, PRIVATE PROPERTY       Part 2  12274\n",
      "4                                  HIT & RUN       Part 2  12032\n",
      "6                LARCENY, FROM MOTOR VEHICLE       Part 2  11925\n",
      "1                  ASSAULT, SIMPLE, DOMESTIC       Part 2  10370\n",
      "5                        LARCENY, ALL OTHERS       Part 2   9124\n",
      "7                       LARCENY, SHOPLIFTING       Part 2   8579\n",
      "3                  DRUG/ NARCOTIC VIOLATIONS       Part 2   7389\n",
      "8                        MOTOR VEHICLE THEFT       Part 1   4189\n",
      "9                      WEAPON LAW VIOLATIONS       Part 2   3983\n"
     ]
    }
   ],
   "source": [
    "# Group by 'Offense_Description' and count occurrences\n",
    "top_10_offenses = df['Offense_Description'].value_counts().head(10)\n",
    "\n",
    "# Filter the DataFrame for the top 10 offenses\n",
    "top_10_offenses_df = df[df['Offense_Description'].isin(top_10_offenses.index)]\n",
    "\n",
    "# Group by 'Offense_Description' and 'Offense_Type' to get the count and part type\n",
    "top_10_offenses_details = top_10_offenses_df.groupby(['Offense_Description', 'Offense_Part']).size().reset_index(name='Count')\n",
    "\n",
    "# Sort by count and show the top 10 offenses\n",
    "top_10_offenses_details = top_10_offenses_details.sort_values(by='Count', ascending=False).head(10)\n",
    "\n",
    "# Print the top 10 most common offenses with their count and offense type (Part 1 or Part 2)\n",
    "print(\"Top 10 Most Common Offenses with Part Information:\")\n",
    "print(top_10_offenses_details)\n"
   ]
  },
  {
   "cell_type": "code",
   "execution_count": 25,
   "metadata": {},
   "outputs": [
    {
     "name": "stdout",
     "output_type": "stream",
     "text": [
      "Overall Crime Status Counts:\n",
      "Case_Status\n",
      "PENDING - INACTIVE           71817\n",
      "CLEARED BY ARREST            48554\n",
      "EXCEPTIONALLY CLEARED        16632\n",
      "PENDING - ACTIVE              4580\n",
      "UNDER REVIEW                  4471\n",
      "UNFOUNDED                     2631\n",
      "PENDING - WARRANTS ISSUED     1477\n",
      "Name: count, dtype: int64\n"
     ]
    }
   ],
   "source": [
    "crime_status_counts = df['Case_Status'].value_counts()\n",
    "\n",
    "# Print overall counts\n",
    "print(\"Overall Crime Status Counts:\")\n",
    "print(crime_status_counts)\n"
   ]
  },
  {
   "cell_type": "code",
   "execution_count": 26,
   "metadata": {},
   "outputs": [
    {
     "name": "stdout",
     "output_type": "stream",
     "text": [
      "\n",
      "Year-wise Crime Status Counts:\n",
      "Case_Status  CLEARED BY ARREST  EXCEPTIONALLY CLEARED  PENDING - ACTIVE  \\\n",
      "Year                                                                      \n",
      "2020                      7801                   4157                20   \n",
      "2021                      7671                   3698                35   \n",
      "2022                      8492                   3012               278   \n",
      "2023                     12552                   3005               834   \n",
      "2024                     10916                   2564              2568   \n",
      "2025                      1122                    196               845   \n",
      "\n",
      "Case_Status  PENDING - INACTIVE  PENDING - WARRANTS ISSUED  UNDER REVIEW  \\\n",
      "Year                                                                       \n",
      "2020                      13321                         92           837   \n",
      "2021                      14117                        192          1109   \n",
      "2022                      14267                        394          1121   \n",
      "2023                      16355                        261           132   \n",
      "2024                      12768                        476          1133   \n",
      "2025                        989                         62           139   \n",
      "\n",
      "Case_Status  UNFOUNDED  \n",
      "Year                    \n",
      "2020               584  \n",
      "2021               582  \n",
      "2022               518  \n",
      "2023               592  \n",
      "2024               330  \n",
      "2025                25  \n"
     ]
    }
   ],
   "source": [
    "crime_status_by_year = df.groupby(['Year', 'Case_Status']).size().unstack(fill_value=0)\n",
    "\n",
    "print(\"\\nYear-wise Crime Status Counts:\")\n",
    "print(crime_status_by_year)\n"
   ]
  },
  {
   "cell_type": "code",
   "execution_count": 27,
   "metadata": {},
   "outputs": [],
   "source": [
    "df = df[df['Case_Status'].str.strip().str.upper() != 'UNFOUNDED'].copy()\n",
    "df = df[df['Occurred_Date'].dt.month <= 6]\n",
    "df = df[df['Occurred_Date'].dt.year.isin([2022, 2023, 2024])]\n",
    "\n",
    "def filter_offenses(row):\n",
    "    for offense in part1_offenses:\n",
    "        if offense.lower() in row['Offense_Description'].lower():\n",
    "            return True\n",
    "    return False\n",
    "\n",
    "df_part1 = df[df.apply(filter_offenses, axis=1)]\n",
    "\n",
    "df_part1 = df_part1[df_part1['Offense_Description'] != 'LARCENY, FROM MOTOR VEHICLE']\n",
    "\n",
    "\n",
    "\n"
   ]
  },
  {
   "cell_type": "code",
   "execution_count": 28,
   "metadata": {},
   "outputs": [
    {
     "name": "stdout",
     "output_type": "stream",
     "text": [
      "Offense_Description\n",
      "LARCENY, SHOPLIFTING                    3030\n",
      "LARCENY, ALL OTHERS                     2423\n",
      "MOTOR VEHICLE THEFT                     1164\n",
      "LARCENY, FROM BUILDING                   813\n",
      "LARCENY,OF M.V. PARTS OR ACCESSORIES     503\n",
      "BURGLARY/ B & E, RESIDENTIAL             310\n",
      "BURGLARY/ B & E, COMMERCIAL              243\n",
      "ASSAULT, AGGRAVATED                      239\n",
      "ROBBERY                                  197\n",
      "ASSAULT, AGGRAVATED, DOMESTIC            101\n",
      "Name: count, dtype: int64\n"
     ]
    }
   ],
   "source": [
    "if not df_part1.empty:\n",
    "    offense_counts = df_part1['Offense_Description'].value_counts()\n",
    "    top_10_offenses = offense_counts.head(10)\n",
    "    print(top_10_offenses)\n",
    "else:\n",
    "    print(\"No data matches the criteria.\")"
   ]
  },
  {
   "cell_type": "code",
   "execution_count": 30,
   "metadata": {},
   "outputs": [
    {
     "name": "stdout",
     "output_type": "stream",
     "text": [
      "The Zone with the most incidents of 'LARCENY, SHOPLIFTING' in the first half of 2024 is Zone 127 with 132 incidents.\n"
     ]
    }
   ],
   "source": [
    "df_2024_h1 = df[(df['Occurred_Date'].dt.year == 2024) & (df['Occurred_Date'].dt.month <= 6)]\n",
    "\n",
    "shoplifting_df = df_2024_h1[df_2024_h1['Offense_Description'] == \"LARCENY, SHOPLIFTING\"]\n",
    "\n",
    "if shoplifting_df.empty:\n",
    "    print(\"No shoplifting incidents found in the first half of 2024.\")\n",
    "\n",
    "top_zone = shoplifting_df['Zone_ID'].value_counts().idxmax()\n",
    "top_zone_count = shoplifting_df['Zone_ID'].value_counts().max()\n",
    "\n",
    "print(f\"The Zone with the most incidents of 'LARCENY, SHOPLIFTING' in the first half of 2024 is Zone {top_zone} with {top_zone_count} incidents.\")\n"
   ]
  },
  {
   "cell_type": "code",
   "execution_count": 32,
   "metadata": {},
   "outputs": [
    {
     "name": "stdout",
     "output_type": "stream",
     "text": [
      "Block\n",
      "600     51\n",
      "700     46\n",
      "800     18\n",
      "2700    15\n",
      "1000     1\n",
      "0        1\n",
      "Name: count, dtype: int64\n"
     ]
    }
   ],
   "source": [
    "df['Occurred_Date'] = pd.to_datetime(df['Occurred_Date'], errors='coerce')\n",
    "\n",
    "df_filtered = df[df.apply(filter_offenses, axis=1) & (df['Zone_ID'] == 127)]\n",
    "\n",
    "df_filtered = df_filtered[(df_filtered['Occurred_Date'] >= '2024-01-01') & (df_filtered['Occurred_Date'] <= '2024-06-30')]\n",
    "\n",
    "df_filtered = df_filtered[df_filtered['Offense_Description'] == 'LARCENY, SHOPLIFTING']\n",
    "\n",
    "top_blocks = df_filtered['Block'].value_counts().head(10)\n",
    "\n",
    "print(top_blocks)\n"
   ]
  },
  {
   "cell_type": "code",
   "execution_count": null,
   "metadata": {},
   "outputs": [],
   "source": []
  }
 ],
 "metadata": {
  "kernelspec": {
   "display_name": "Python 3",
   "language": "python",
   "name": "python3"
  },
  "language_info": {
   "codemirror_mode": {
    "name": "ipython",
    "version": 3
   },
   "file_extension": ".py",
   "mimetype": "text/x-python",
   "name": "python",
   "nbconvert_exporter": "python",
   "pygments_lexer": "ipython3",
   "version": "3.13.1"
  }
 },
 "nbformat": 4,
 "nbformat_minor": 2
}
